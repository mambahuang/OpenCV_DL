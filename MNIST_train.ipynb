{
  "nbformat": 4,
  "nbformat_minor": 0,
  "metadata": {
    "colab": {
      "provenance": [],
      "gpuType": "T4",
      "include_colab_link": true
    },
    "kernelspec": {
      "name": "python3",
      "display_name": "Python 3"
    },
    "language_info": {
      "name": "python"
    },
    "accelerator": "GPU"
  },
  "cells": [
    {
      "cell_type": "markdown",
      "metadata": {
        "id": "view-in-github",
        "colab_type": "text"
      },
      "source": [
        "<a href=\"https://colab.research.google.com/github/mambahuang/OpenCV_DL/blob/master/MNIST_train.ipynb\" target=\"_parent\"><img src=\"https://colab.research.google.com/assets/colab-badge.svg\" alt=\"Open In Colab\"/></a>"
      ]
    },
    {
      "cell_type": "code",
      "source": [
        "!sudo add-apt-repository -y ppa:alessandro-strada/ppa 2>&1 > /dev/null\n",
        "!sudo apt-get update -qq 2>&1 > /dev/null\n",
        "!sudo apt -y install -qq google-drive-ocamlfuse 2>&1 > /dev/null\n",
        "!google-drive-ocamlfuse"
      ],
      "metadata": {
        "id": "jIh0Jy3FubRc",
        "colab": {
          "base_uri": "https://localhost:8080/"
        },
        "outputId": "690007fe-7006-4595-a764-22efc90c3250"
      },
      "execution_count": null,
      "outputs": [
        {
          "output_type": "stream",
          "name": "stdout",
          "text": [
            "\n",
            "WARNING: apt does not have a stable CLI interface. Use with caution in scripts.\n",
            "\n",
            "debconf: unable to initialize frontend: Dialog\n",
            "debconf: (No usable dialog-like program is installed, so the dialog based frontend cannot be used. at /usr/share/perl5/Debconf/FrontEnd/Dialog.pm line 78, <> line 1.)\n",
            "debconf: falling back to frontend: Readline\n",
            "debconf: unable to initialize frontend: Readline\n",
            "debconf: (This frontend requires a controlling tty.)\n",
            "debconf: falling back to frontend: Teletype\n",
            "dpkg-preconfigure: unable to re-open stdin: \n",
            "/usr/bin/xdg-open: 882: www-browser: not found\n",
            "/usr/bin/xdg-open: 882: links2: not found\n",
            "/usr/bin/xdg-open: 882: elinks: not found\n",
            "/usr/bin/xdg-open: 882: links: not found\n",
            "/usr/bin/xdg-open: 882: lynx: not found\n",
            "/usr/bin/xdg-open: 882: w3m: not found\n",
            "xdg-open: no method available for opening 'https://accounts.google.com/o/oauth2/auth?client_id=564921029129.apps.googleusercontent.com&redirect_uri=https%3A%2F%2Fgd-ocaml-auth.appspot.com%2Foauth2callback&scope=https%3A%2F%2Fwww.googleapis.com%2Fauth%2Fdrive&response_type=code&access_type=offline&approval_prompt=force&state=3QKYbd%2F7lkug0Q7QfFfZoaduiD%2FWlYMKTSHBdPZir%2FE'\n",
            "/bin/sh: 1: firefox: not found\n",
            "/bin/sh: 1: google-chrome: not found\n",
            "/bin/sh: 1: chromium-browser: not found\n",
            "/usr/bin/open: 882: www-browser: not found\n",
            "/usr/bin/open: 882: links2: not found\n",
            "/usr/bin/open: 882: elinks: not found\n",
            "/usr/bin/open: 882: links: not found\n",
            "/usr/bin/open: 882: lynx: not found\n",
            "/usr/bin/open: 882: w3m: not found\n",
            "xdg-open: no method available for opening 'https://accounts.google.com/o/oauth2/auth?client_id=564921029129.apps.googleusercontent.com&redirect_uri=https%3A%2F%2Fgd-ocaml-auth.appspot.com%2Foauth2callback&scope=https%3A%2F%2Fwww.googleapis.com%2Fauth%2Fdrive&response_type=code&access_type=offline&approval_prompt=force&state=3QKYbd%2F7lkug0Q7QfFfZoaduiD%2FWlYMKTSHBdPZir%2FE'\n",
            "Cannot retrieve auth tokens.\n",
            "Failure(\"Error opening URL:https://accounts.google.com/o/oauth2/auth?client_id=564921029129.apps.googleusercontent.com&redirect_uri=https%3A%2F%2Fgd-ocaml-auth.appspot.com%2Foauth2callback&scope=https%3A%2F%2Fwww.googleapis.com%2Fauth%2Fdrive&response_type=code&access_type=offline&approval_prompt=force&state=3QKYbd%2F7lkug0Q7QfFfZoaduiD%2FWlYMKTSHBdPZir%2FE\")\n"
          ]
        }
      ]
    },
    {
      "cell_type": "code",
      "source": [
        "!sudo apt-get install -qq w3m # to act as web browser\n",
        "!xdg-settings set default-web-browser w3m.desktop # to set default browser\n",
        "%cd /content\n",
        "!mkdir drive\n",
        "%cd drive\n",
        "!mkdir MyDrive\n",
        "%cd ..\n",
        "%cd ..\n",
        "!google-drive-ocamlfuse /content/drive/MyDrive"
      ],
      "metadata": {
        "colab": {
          "base_uri": "https://localhost:8080/"
        },
        "id": "X36kfBWEuzYY",
        "outputId": "7e943164-14cd-41db-8f30-175c64a35d00"
      },
      "execution_count": null,
      "outputs": [
        {
          "output_type": "stream",
          "name": "stdout",
          "text": [
            "debconf: unable to initialize frontend: Dialog\n",
            "debconf: (No usable dialog-like program is installed, so the dialog based frontend cannot be used. at /usr/share/perl5/Debconf/FrontEnd/Dialog.pm line 78, <> line 1.)\n",
            "debconf: falling back to frontend: Readline\n",
            "debconf: unable to initialize frontend: Readline\n",
            "debconf: (This frontend requires a controlling tty.)\n",
            "debconf: falling back to frontend: Teletype\n",
            "dpkg-preconfigure: unable to re-open stdin: \n",
            "Selecting previously unselected package w3m.\n",
            "(Reading database ... 121671 files and directories currently installed.)\n",
            "Preparing to unpack .../w3m_0.5.3+git20210102-6ubuntu0.1_amd64.deb ...\n",
            "Unpacking w3m (0.5.3+git20210102-6ubuntu0.1) ...\n",
            "Setting up w3m (0.5.3+git20210102-6ubuntu0.1) ...\n",
            "Processing triggers for man-db (2.10.2-1) ...\n",
            "/content\n",
            "/content/drive\n",
            "/content\n",
            "/\n",
            "Access token retrieved correctly.\n"
          ]
        }
      ]
    },
    {
      "cell_type": "markdown",
      "source": [
        "## python lib import"
      ],
      "metadata": {
        "id": "22Ep5m4MrxVP"
      }
    },
    {
      "cell_type": "code",
      "source": [
        "from sys import int_info\n",
        "from time import sleep\n",
        "\n",
        "import numpy as np\n",
        "import glob\n",
        "import matplotlib.pyplot as plt\n",
        "\n",
        "import os\n",
        "import cv2\n",
        "import pickle\n",
        "import random\n",
        "import torch\n",
        "import torch.nn as nn\n",
        "from torch.utils.data import Dataset\n",
        "# import torchvision.transforms as transforms\n",
        "from torchvision import transforms\n",
        "from torchvision.transforms import v2\n",
        "\n",
        "import torchvision\n",
        "from torch.autograd import Variable\n",
        "import torch.nn.functional as F\n",
        "import torch.optim as optim\n",
        "\n",
        "from torchsummary import summary\n",
        "\n",
        "import warnings\n",
        "\n",
        "from tqdm import tqdm\n",
        "from IPython.display import clear_output"
      ],
      "metadata": {
        "id": "2MpziGZ0uIRw"
      },
      "execution_count": null,
      "outputs": []
    },
    {
      "cell_type": "markdown",
      "source": [
        "## config set"
      ],
      "metadata": {
        "id": "AKaZXTYvr21v"
      }
    },
    {
      "cell_type": "code",
      "source": [
        "num_classes = 10\n",
        "batch_size = 128\n",
        "learning_rate = 0.00001\n",
        "op = 'Adam'\n",
        "epochs = 30\n",
        "weight_decay = 1e-4\n",
        "train_loss_epochs = []\n",
        "train_acc_epochs = []\n",
        "test_loss_epochs = []\n",
        "test_acc_epochs = []\n",
        "\n",
        "optimizers = {'SGD':torch.optim.SGD, 'Adam':torch.optim.Adam, 'RMSprop':torch.optim.RMSprop}"
      ],
      "metadata": {
        "id": "ugjMMsJrr6hX"
      },
      "execution_count": null,
      "outputs": []
    },
    {
      "cell_type": "markdown",
      "source": [
        "## DataSet loader"
      ],
      "metadata": {
        "id": "_g1GOdC6r8mW"
      }
    },
    {
      "cell_type": "code",
      "source": [
        "# transform = transforms.Compose([transforms.ToTensor(), transforms.Normalize((0.5,), (0.5,))])\n",
        "transform = transforms.Compose([\n",
        "    transforms.Resize(size=(32, 32)),\n",
        "    transforms.Grayscale(num_output_channels=3),\n",
        "    transforms.ToTensor(),\n",
        "    transforms.Normalize((0.5,), (0.5,))\n",
        "    ])\n",
        "\n",
        "trainDataset = torchvision.datasets.MNIST(root = './', train = True, download = True, transform = transform)\n",
        "trainLoader = torch.utils.data.DataLoader(trainDataset, batch_size = batch_size, shuffle = True, num_workers = 0)\n",
        "testDataset = torchvision.datasets.MNIST(root = './', train = False, download = True, transform = transform)\n",
        "testLoader = torch.utils.data.DataLoader(testDataset, batch_size = batch_size, shuffle = True, num_workers = 0)\n"
      ],
      "metadata": {
        "id": "8usN3fKhsIG6",
        "colab": {
          "base_uri": "https://localhost:8080/"
        },
        "outputId": "daa1f59d-cff5-4f35-ef1b-507c80772c33"
      },
      "execution_count": null,
      "outputs": [
        {
          "output_type": "stream",
          "name": "stdout",
          "text": [
            "Downloading http://yann.lecun.com/exdb/mnist/train-images-idx3-ubyte.gz\n",
            "Downloading http://yann.lecun.com/exdb/mnist/train-images-idx3-ubyte.gz to ./MNIST/raw/train-images-idx3-ubyte.gz\n"
          ]
        },
        {
          "output_type": "stream",
          "name": "stderr",
          "text": [
            "100%|██████████| 9912422/9912422 [00:00<00:00, 117258362.34it/s]\n"
          ]
        },
        {
          "output_type": "stream",
          "name": "stdout",
          "text": [
            "Extracting ./MNIST/raw/train-images-idx3-ubyte.gz to ./MNIST/raw\n",
            "\n",
            "Downloading http://yann.lecun.com/exdb/mnist/train-labels-idx1-ubyte.gz\n",
            "Downloading http://yann.lecun.com/exdb/mnist/train-labels-idx1-ubyte.gz to ./MNIST/raw/train-labels-idx1-ubyte.gz\n"
          ]
        },
        {
          "output_type": "stream",
          "name": "stderr",
          "text": [
            "100%|██████████| 28881/28881 [00:00<00:00, 40164354.72it/s]\n"
          ]
        },
        {
          "output_type": "stream",
          "name": "stdout",
          "text": [
            "Extracting ./MNIST/raw/train-labels-idx1-ubyte.gz to ./MNIST/raw\n",
            "\n",
            "Downloading http://yann.lecun.com/exdb/mnist/t10k-images-idx3-ubyte.gz\n",
            "Downloading http://yann.lecun.com/exdb/mnist/t10k-images-idx3-ubyte.gz to ./MNIST/raw/t10k-images-idx3-ubyte.gz\n"
          ]
        },
        {
          "output_type": "stream",
          "name": "stderr",
          "text": [
            "100%|██████████| 1648877/1648877 [00:00<00:00, 32730820.26it/s]\n"
          ]
        },
        {
          "output_type": "stream",
          "name": "stdout",
          "text": [
            "Extracting ./MNIST/raw/t10k-images-idx3-ubyte.gz to ./MNIST/raw\n",
            "\n",
            "Downloading http://yann.lecun.com/exdb/mnist/t10k-labels-idx1-ubyte.gz\n",
            "Downloading http://yann.lecun.com/exdb/mnist/t10k-labels-idx1-ubyte.gz to ./MNIST/raw/t10k-labels-idx1-ubyte.gz\n"
          ]
        },
        {
          "output_type": "stream",
          "name": "stderr",
          "text": [
            "100%|██████████| 4542/4542 [00:00<00:00, 20180644.88it/s]\n"
          ]
        },
        {
          "output_type": "stream",
          "name": "stdout",
          "text": [
            "Extracting ./MNIST/raw/t10k-labels-idx1-ubyte.gz to ./MNIST/raw\n",
            "\n"
          ]
        }
      ]
    },
    {
      "cell_type": "markdown",
      "source": [
        "## model parameter set"
      ],
      "metadata": {
        "id": "k8P_CvE1sLb4"
      }
    },
    {
      "cell_type": "code",
      "source": [
        "model = torchvision.models.vgg19_bn(num_classes=num_classes)\n",
        "\n",
        "use_gpu = torch.cuda.is_available()\n",
        "if use_gpu:\n",
        "    model = model.cuda()\n",
        "\n",
        "if op == 'Adam':\n",
        "    optimizer = optimizers[op](model.parameters(), lr=learning_rate, weight_decay=weight_decay)\n",
        "    # optimizer = optimizers[op](model.parameters(), lr=learning_rate)\n",
        "elif op == 'SGD':\n",
        "    optimizer = optimizers[op](model.parameters(), lr=learning_rate, momentum=0.9)\n",
        "else:\n",
        "    print('optimizer未完成設置！\\n')\n",
        "    os._exit()\n",
        "\n",
        "criterion = nn.CrossEntropyLoss()\n",
        "\n",
        "summary(model, input_size=(3, 32, 32))"
      ],
      "metadata": {
        "colab": {
          "base_uri": "https://localhost:8080/"
        },
        "id": "XyNgRXm_s3N8",
        "outputId": "b6615d7d-b3b1-4fc4-ce08-71bafb218098"
      },
      "execution_count": null,
      "outputs": [
        {
          "output_type": "stream",
          "name": "stdout",
          "text": [
            "----------------------------------------------------------------\n",
            "        Layer (type)               Output Shape         Param #\n",
            "================================================================\n",
            "            Conv2d-1           [-1, 64, 32, 32]           1,792\n",
            "       BatchNorm2d-2           [-1, 64, 32, 32]             128\n",
            "              ReLU-3           [-1, 64, 32, 32]               0\n",
            "            Conv2d-4           [-1, 64, 32, 32]          36,928\n",
            "       BatchNorm2d-5           [-1, 64, 32, 32]             128\n",
            "              ReLU-6           [-1, 64, 32, 32]               0\n",
            "         MaxPool2d-7           [-1, 64, 16, 16]               0\n",
            "            Conv2d-8          [-1, 128, 16, 16]          73,856\n",
            "       BatchNorm2d-9          [-1, 128, 16, 16]             256\n",
            "             ReLU-10          [-1, 128, 16, 16]               0\n",
            "           Conv2d-11          [-1, 128, 16, 16]         147,584\n",
            "      BatchNorm2d-12          [-1, 128, 16, 16]             256\n",
            "             ReLU-13          [-1, 128, 16, 16]               0\n",
            "        MaxPool2d-14            [-1, 128, 8, 8]               0\n",
            "           Conv2d-15            [-1, 256, 8, 8]         295,168\n",
            "      BatchNorm2d-16            [-1, 256, 8, 8]             512\n",
            "             ReLU-17            [-1, 256, 8, 8]               0\n",
            "           Conv2d-18            [-1, 256, 8, 8]         590,080\n",
            "      BatchNorm2d-19            [-1, 256, 8, 8]             512\n",
            "             ReLU-20            [-1, 256, 8, 8]               0\n",
            "           Conv2d-21            [-1, 256, 8, 8]         590,080\n",
            "      BatchNorm2d-22            [-1, 256, 8, 8]             512\n",
            "             ReLU-23            [-1, 256, 8, 8]               0\n",
            "           Conv2d-24            [-1, 256, 8, 8]         590,080\n",
            "      BatchNorm2d-25            [-1, 256, 8, 8]             512\n",
            "             ReLU-26            [-1, 256, 8, 8]               0\n",
            "        MaxPool2d-27            [-1, 256, 4, 4]               0\n",
            "           Conv2d-28            [-1, 512, 4, 4]       1,180,160\n",
            "      BatchNorm2d-29            [-1, 512, 4, 4]           1,024\n",
            "             ReLU-30            [-1, 512, 4, 4]               0\n",
            "           Conv2d-31            [-1, 512, 4, 4]       2,359,808\n",
            "      BatchNorm2d-32            [-1, 512, 4, 4]           1,024\n",
            "             ReLU-33            [-1, 512, 4, 4]               0\n",
            "           Conv2d-34            [-1, 512, 4, 4]       2,359,808\n",
            "      BatchNorm2d-35            [-1, 512, 4, 4]           1,024\n",
            "             ReLU-36            [-1, 512, 4, 4]               0\n",
            "           Conv2d-37            [-1, 512, 4, 4]       2,359,808\n",
            "      BatchNorm2d-38            [-1, 512, 4, 4]           1,024\n",
            "             ReLU-39            [-1, 512, 4, 4]               0\n",
            "        MaxPool2d-40            [-1, 512, 2, 2]               0\n",
            "           Conv2d-41            [-1, 512, 2, 2]       2,359,808\n",
            "      BatchNorm2d-42            [-1, 512, 2, 2]           1,024\n",
            "             ReLU-43            [-1, 512, 2, 2]               0\n",
            "           Conv2d-44            [-1, 512, 2, 2]       2,359,808\n",
            "      BatchNorm2d-45            [-1, 512, 2, 2]           1,024\n",
            "             ReLU-46            [-1, 512, 2, 2]               0\n",
            "           Conv2d-47            [-1, 512, 2, 2]       2,359,808\n",
            "      BatchNorm2d-48            [-1, 512, 2, 2]           1,024\n",
            "             ReLU-49            [-1, 512, 2, 2]               0\n",
            "           Conv2d-50            [-1, 512, 2, 2]       2,359,808\n",
            "      BatchNorm2d-51            [-1, 512, 2, 2]           1,024\n",
            "             ReLU-52            [-1, 512, 2, 2]               0\n",
            "        MaxPool2d-53            [-1, 512, 1, 1]               0\n",
            "AdaptiveAvgPool2d-54            [-1, 512, 7, 7]               0\n",
            "           Linear-55                 [-1, 4096]     102,764,544\n",
            "             ReLU-56                 [-1, 4096]               0\n",
            "          Dropout-57                 [-1, 4096]               0\n",
            "           Linear-58                 [-1, 4096]      16,781,312\n",
            "             ReLU-59                 [-1, 4096]               0\n",
            "          Dropout-60                 [-1, 4096]               0\n",
            "           Linear-61                   [-1, 10]          40,970\n",
            "================================================================\n",
            "Total params: 139,622,218\n",
            "Trainable params: 139,622,218\n",
            "Non-trainable params: 0\n",
            "----------------------------------------------------------------\n",
            "Input size (MB): 0.01\n",
            "Forward/backward pass size (MB): 7.55\n",
            "Params size (MB): 532.62\n",
            "Estimated Total Size (MB): 540.18\n",
            "----------------------------------------------------------------\n"
          ]
        }
      ]
    },
    {
      "cell_type": "markdown",
      "source": [
        "## train model"
      ],
      "metadata": {
        "id": "efEfXvDRz7VX"
      }
    },
    {
      "cell_type": "code",
      "execution_count": null,
      "metadata": {
        "colab": {
          "base_uri": "https://localhost:8080/"
        },
        "outputId": "0e493a5d-0064-4bcf-a766-7ba01882c795",
        "id": "wqcIDfwkNrIU"
      },
      "outputs": [
        {
          "output_type": "stream",
          "name": "stderr",
          "text": [
            "469it [01:27,  5.34it/s]\n",
            "<ipython-input-7-a643b1b9e990>:49: UserWarning: volatile was removed and now has no effect. Use `with torch.no_grad():` instead.\n",
            "  inputs = Variable(inputs, volatile=True)\n",
            "<ipython-input-7-a643b1b9e990>:50: UserWarning: volatile was removed and now has no effect. Use `with torch.no_grad():` instead.\n",
            "  labels = Variable(labels, volatile=True)\n"
          ]
        },
        {
          "output_type": "stream",
          "name": "stdout",
          "text": [
            "[ 1, 60032] Train Loss: 0.599\n",
            "[ 1, 60032] Train Accuracy: 0.800\n",
            "[ 1, 10112] Test Loss: 0.110\n",
            "[ 1, 10112] Test Accuracy: 0.953\n"
          ]
        },
        {
          "output_type": "stream",
          "name": "stderr",
          "text": [
            "469it [01:25,  5.46it/s]\n"
          ]
        },
        {
          "output_type": "stream",
          "name": "stdout",
          "text": [
            "[ 2, 60032] Train Loss: 0.086\n",
            "[ 2, 60032] Train Accuracy: 0.973\n",
            "[ 2, 10112] Test Loss: 0.084\n",
            "[ 2, 10112] Test Accuracy: 0.963\n"
          ]
        },
        {
          "output_type": "stream",
          "name": "stderr",
          "text": [
            "469it [01:25,  5.49it/s]\n"
          ]
        },
        {
          "output_type": "stream",
          "name": "stdout",
          "text": [
            "[ 3, 60032] Train Loss: 0.029\n",
            "[ 3, 60032] Train Accuracy: 0.991\n",
            "[ 3, 10112] Test Loss: 0.089\n",
            "[ 3, 10112] Test Accuracy: 0.965\n"
          ]
        },
        {
          "output_type": "stream",
          "name": "stderr",
          "text": [
            "469it [01:25,  5.46it/s]\n"
          ]
        },
        {
          "output_type": "stream",
          "name": "stdout",
          "text": [
            "[ 4, 60032] Train Loss: 0.012\n",
            "[ 4, 60032] Train Accuracy: 0.996\n",
            "[ 4, 10112] Test Loss: 0.089\n",
            "[ 4, 10112] Test Accuracy: 0.966\n"
          ]
        },
        {
          "output_type": "stream",
          "name": "stderr",
          "text": [
            "469it [01:25,  5.51it/s]\n"
          ]
        },
        {
          "output_type": "stream",
          "name": "stdout",
          "text": [
            "[ 5, 60032] Train Loss: 0.009\n",
            "[ 5, 60032] Train Accuracy: 0.997\n",
            "[ 5, 10112] Test Loss: 0.077\n",
            "[ 5, 10112] Test Accuracy: 0.969\n"
          ]
        },
        {
          "output_type": "stream",
          "name": "stderr",
          "text": [
            "469it [01:24,  5.52it/s]\n"
          ]
        },
        {
          "output_type": "stream",
          "name": "stdout",
          "text": [
            "[ 6, 60032] Train Loss: 0.008\n",
            "[ 6, 60032] Train Accuracy: 0.997\n",
            "[ 6, 10112] Test Loss: 0.080\n",
            "[ 6, 10112] Test Accuracy: 0.969\n"
          ]
        },
        {
          "output_type": "stream",
          "name": "stderr",
          "text": [
            "469it [01:24,  5.52it/s]\n"
          ]
        },
        {
          "output_type": "stream",
          "name": "stdout",
          "text": [
            "[ 7, 60032] Train Loss: 0.013\n",
            "[ 7, 60032] Train Accuracy: 0.995\n",
            "[ 7, 10112] Test Loss: 0.093\n",
            "[ 7, 10112] Test Accuracy: 0.967\n"
          ]
        },
        {
          "output_type": "stream",
          "name": "stderr",
          "text": [
            "469it [01:25,  5.51it/s]\n"
          ]
        },
        {
          "output_type": "stream",
          "name": "stdout",
          "text": [
            "[ 8, 60032] Train Loss: 0.012\n",
            "[ 8, 60032] Train Accuracy: 0.996\n",
            "[ 8, 10112] Test Loss: 0.092\n",
            "[ 8, 10112] Test Accuracy: 0.969\n"
          ]
        },
        {
          "output_type": "stream",
          "name": "stderr",
          "text": [
            "469it [01:25,  5.46it/s]\n"
          ]
        },
        {
          "output_type": "stream",
          "name": "stdout",
          "text": [
            "[ 9, 60032] Train Loss: 0.009\n",
            "[ 9, 60032] Train Accuracy: 0.996\n",
            "[ 9, 10112] Test Loss: 0.077\n",
            "[ 9, 10112] Test Accuracy: 0.972\n"
          ]
        },
        {
          "output_type": "stream",
          "name": "stderr",
          "text": [
            "469it [01:25,  5.51it/s]\n"
          ]
        },
        {
          "output_type": "stream",
          "name": "stdout",
          "text": [
            "[10, 60032] Train Loss: 0.008\n",
            "[10, 60032] Train Accuracy: 0.997\n",
            "[10, 10112] Test Loss: 0.087\n",
            "[10, 10112] Test Accuracy: 0.972\n"
          ]
        },
        {
          "output_type": "stream",
          "name": "stderr",
          "text": [
            "469it [01:25,  5.50it/s]\n"
          ]
        },
        {
          "output_type": "stream",
          "name": "stdout",
          "text": [
            "[11, 60032] Train Loss: 0.007\n",
            "[11, 60032] Train Accuracy: 0.997\n",
            "[11, 10112] Test Loss: 0.080\n",
            "[11, 10112] Test Accuracy: 0.972\n"
          ]
        },
        {
          "output_type": "stream",
          "name": "stderr",
          "text": [
            "469it [01:25,  5.51it/s]\n"
          ]
        },
        {
          "output_type": "stream",
          "name": "stdout",
          "text": [
            "[12, 60032] Train Loss: 0.008\n",
            "[12, 60032] Train Accuracy: 0.997\n",
            "[12, 10112] Test Loss: 0.102\n",
            "[12, 10112] Test Accuracy: 0.968\n"
          ]
        },
        {
          "output_type": "stream",
          "name": "stderr",
          "text": [
            "469it [01:25,  5.48it/s]\n"
          ]
        },
        {
          "output_type": "stream",
          "name": "stdout",
          "text": [
            "[13, 60032] Train Loss: 0.011\n",
            "[13, 60032] Train Accuracy: 0.996\n",
            "[13, 10112] Test Loss: 0.081\n",
            "[13, 10112] Test Accuracy: 0.973\n"
          ]
        },
        {
          "output_type": "stream",
          "name": "stderr",
          "text": [
            "469it [01:25,  5.46it/s]\n"
          ]
        },
        {
          "output_type": "stream",
          "name": "stdout",
          "text": [
            "[14, 60032] Train Loss: 0.007\n",
            "[14, 60032] Train Accuracy: 0.997\n",
            "[14, 10112] Test Loss: 0.081\n",
            "[14, 10112] Test Accuracy: 0.973\n"
          ]
        },
        {
          "output_type": "stream",
          "name": "stderr",
          "text": [
            "469it [01:25,  5.50it/s]\n"
          ]
        },
        {
          "output_type": "stream",
          "name": "stdout",
          "text": [
            "[15, 60032] Train Loss: 0.007\n",
            "[15, 60032] Train Accuracy: 0.997\n",
            "[15, 10112] Test Loss: 0.079\n",
            "[15, 10112] Test Accuracy: 0.974\n"
          ]
        },
        {
          "output_type": "stream",
          "name": "stderr",
          "text": [
            "469it [01:25,  5.48it/s]\n"
          ]
        },
        {
          "output_type": "stream",
          "name": "stdout",
          "text": [
            "[16, 60032] Train Loss: 0.006\n",
            "[16, 60032] Train Accuracy: 0.998\n",
            "[16, 10112] Test Loss: 0.077\n",
            "[16, 10112] Test Accuracy: 0.974\n"
          ]
        },
        {
          "output_type": "stream",
          "name": "stderr",
          "text": [
            "469it [01:25,  5.46it/s]\n"
          ]
        },
        {
          "output_type": "stream",
          "name": "stdout",
          "text": [
            "[17, 60032] Train Loss: 0.004\n",
            "[17, 60032] Train Accuracy: 0.998\n",
            "[17, 10112] Test Loss: 0.078\n",
            "[17, 10112] Test Accuracy: 0.975\n"
          ]
        },
        {
          "output_type": "stream",
          "name": "stderr",
          "text": [
            "469it [01:25,  5.48it/s]\n"
          ]
        },
        {
          "output_type": "stream",
          "name": "stdout",
          "text": [
            "[18, 60032] Train Loss: 0.005\n",
            "[18, 60032] Train Accuracy: 0.998\n",
            "[18, 10112] Test Loss: 0.072\n",
            "[18, 10112] Test Accuracy: 0.975\n"
          ]
        },
        {
          "output_type": "stream",
          "name": "stderr",
          "text": [
            "469it [01:26,  5.43it/s]\n"
          ]
        },
        {
          "output_type": "stream",
          "name": "stdout",
          "text": [
            "[19, 60032] Train Loss: 0.007\n",
            "[19, 60032] Train Accuracy: 0.998\n",
            "[19, 10112] Test Loss: 0.077\n",
            "[19, 10112] Test Accuracy: 0.974\n"
          ]
        },
        {
          "output_type": "stream",
          "name": "stderr",
          "text": [
            "469it [01:26,  5.43it/s]\n"
          ]
        },
        {
          "output_type": "stream",
          "name": "stdout",
          "text": [
            "[20, 60032] Train Loss: 0.004\n",
            "[20, 60032] Train Accuracy: 0.998\n",
            "[20, 10112] Test Loss: 0.067\n",
            "[20, 10112] Test Accuracy: 0.977\n"
          ]
        },
        {
          "output_type": "stream",
          "name": "stderr",
          "text": [
            "469it [01:25,  5.46it/s]\n"
          ]
        },
        {
          "output_type": "stream",
          "name": "stdout",
          "text": [
            "[21, 60032] Train Loss: 0.006\n",
            "[21, 60032] Train Accuracy: 0.998\n",
            "[21, 10112] Test Loss: 0.083\n",
            "[21, 10112] Test Accuracy: 0.974\n"
          ]
        },
        {
          "output_type": "stream",
          "name": "stderr",
          "text": [
            "469it [01:26,  5.44it/s]\n"
          ]
        },
        {
          "output_type": "stream",
          "name": "stdout",
          "text": [
            "[22, 60032] Train Loss: 0.004\n",
            "[22, 60032] Train Accuracy: 0.998\n",
            "[22, 10112] Test Loss: 0.075\n",
            "[22, 10112] Test Accuracy: 0.975\n"
          ]
        },
        {
          "output_type": "stream",
          "name": "stderr",
          "text": [
            "469it [01:25,  5.50it/s]\n"
          ]
        },
        {
          "output_type": "stream",
          "name": "stdout",
          "text": [
            "[23, 60032] Train Loss: 0.003\n",
            "[23, 60032] Train Accuracy: 0.998\n",
            "[23, 10112] Test Loss: 0.090\n",
            "[23, 10112] Test Accuracy: 0.974\n"
          ]
        },
        {
          "output_type": "stream",
          "name": "stderr",
          "text": [
            "469it [01:25,  5.48it/s]\n"
          ]
        },
        {
          "output_type": "stream",
          "name": "stdout",
          "text": [
            "[24, 60032] Train Loss: 0.005\n",
            "[24, 60032] Train Accuracy: 0.998\n",
            "[24, 10112] Test Loss: 0.061\n",
            "[24, 10112] Test Accuracy: 0.978\n"
          ]
        },
        {
          "output_type": "stream",
          "name": "stderr",
          "text": [
            "469it [01:26,  5.42it/s]\n"
          ]
        },
        {
          "output_type": "stream",
          "name": "stdout",
          "text": [
            "[25, 60032] Train Loss: 0.005\n",
            "[25, 60032] Train Accuracy: 0.998\n",
            "[25, 10112] Test Loss: 0.065\n",
            "[25, 10112] Test Accuracy: 0.975\n"
          ]
        },
        {
          "output_type": "stream",
          "name": "stderr",
          "text": [
            "469it [01:25,  5.46it/s]\n"
          ]
        },
        {
          "output_type": "stream",
          "name": "stdout",
          "text": [
            "[26, 60032] Train Loss: 0.006\n",
            "[26, 60032] Train Accuracy: 0.998\n",
            "[26, 10112] Test Loss: 0.075\n",
            "[26, 10112] Test Accuracy: 0.976\n"
          ]
        },
        {
          "output_type": "stream",
          "name": "stderr",
          "text": [
            "469it [01:25,  5.46it/s]\n"
          ]
        },
        {
          "output_type": "stream",
          "name": "stdout",
          "text": [
            "[27, 60032] Train Loss: 0.007\n",
            "[27, 60032] Train Accuracy: 0.998\n",
            "[27, 10112] Test Loss: 0.070\n",
            "[27, 10112] Test Accuracy: 0.975\n"
          ]
        },
        {
          "output_type": "stream",
          "name": "stderr",
          "text": [
            "469it [01:25,  5.47it/s]\n"
          ]
        },
        {
          "output_type": "stream",
          "name": "stdout",
          "text": [
            "[28, 60032] Train Loss: 0.004\n",
            "[28, 60032] Train Accuracy: 0.999\n",
            "[28, 10112] Test Loss: 0.066\n",
            "[28, 10112] Test Accuracy: 0.976\n"
          ]
        },
        {
          "output_type": "stream",
          "name": "stderr",
          "text": [
            "469it [01:26,  5.45it/s]\n"
          ]
        },
        {
          "output_type": "stream",
          "name": "stdout",
          "text": [
            "[29, 60032] Train Loss: 0.001\n",
            "[29, 60032] Train Accuracy: 0.999\n",
            "[29, 10112] Test Loss: 0.071\n",
            "[29, 10112] Test Accuracy: 0.976\n"
          ]
        },
        {
          "output_type": "stream",
          "name": "stderr",
          "text": [
            "469it [01:26,  5.43it/s]\n"
          ]
        },
        {
          "output_type": "stream",
          "name": "stdout",
          "text": [
            "[30, 60032] Train Loss: 0.003\n",
            "[30, 60032] Train Accuracy: 0.999\n",
            "[30, 10112] Test Loss: 0.075\n",
            "[30, 10112] Test Accuracy: 0.977\n",
            "[0.5985082538603846, 0.08601064502851351, 0.029202348553637136, 0.012025899386955802, 0.00869797163066203, 0.008093083912369806, 0.01291576238033654, 0.011634611994778523, 0.009214841645385014, 0.007949099963704334, 0.00684553829470125, 0.007864221584197738, 0.010913015602538463, 0.006562885207939986, 0.00688022208288612, 0.005886278536938969, 0.00447185650194363, 0.005105256396255107, 0.006956741281585694, 0.003929105115770389, 0.005760480215195733, 0.004076864371705933, 0.003324940967056768, 0.004675409890175256, 0.0052075964075370814, 0.0058338604345876946, 0.00681429418575871, 0.0036404480375591517, 0.0014746973343965114, 0.0025169845872573446]\n",
            "[0.8000066631130064, 0.9732975746268657, 0.9905383795309168, 0.996035447761194, 0.9967517324093816, 0.9969016524520256, 0.9950026652452025, 0.9955856876332623, 0.9962519989339019, 0.9966684434968017, 0.9974013859275054, 0.9968350213219617, 0.996202025586354, 0.9974513592750534, 0.9972514658848614, 0.9977678571428571, 0.998034381663113, 0.997867803837953, 0.9975013326226013, 0.9983175639658849, 0.9978011727078892, 0.9982342750533049, 0.9983841950959488, 0.9980177238805971, 0.9977845149253731, 0.9978011727078892, 0.9975179904051172, 0.9985174573560768, 0.9990505063965884, 0.9987340085287847]\n",
            "[0.1103748879100703, 0.08388561190730787, 0.08931093216178161, 0.08915065610088714, 0.07723797438924107, 0.0801289734431348, 0.09269698265839746, 0.09236772258027716, 0.07658115198063559, 0.08691167180508204, 0.08026478062103844, 0.1023391416079742, 0.0808520300941589, 0.08094884009906193, 0.07944924074944872, 0.07695167238116367, 0.07819914539555335, 0.072059052286425, 0.07717375262116179, 0.06652791186206292, 0.08329276311320151, 0.07538075009922608, 0.09015808099384605, 0.0614897501061931, 0.06539910059853102, 0.07541322239585843, 0.07040498903434933, 0.06594502973976941, 0.07118922737476445, 0.07460831379326519]\n",
            "[0.953125, 0.9628164556962026, 0.9648931962025317, 0.9660799050632911, 0.9692444620253164, 0.9692444620253164, 0.9672666139240507, 0.969442246835443, 0.9721123417721519, 0.9717167721518988, 0.9724090189873418, 0.9684533227848101, 0.9727056962025317, 0.9728045886075949, 0.9744857594936709, 0.9743868670886076, 0.974881329113924, 0.9750791139240507, 0.9742879746835443, 0.9770569620253164, 0.974189082278481, 0.9752768987341772, 0.9740901898734177, 0.9784414556962026, 0.9753757911392406, 0.9760680379746836, 0.9754746835443038, 0.9763647151898734, 0.9759691455696202, 0.9771558544303798]\n"
          ]
        }
      ],
      "source": [
        "for epoch in range(epochs):\n",
        "    running_loss = 0.0\n",
        "    acc_batch = 0.0\n",
        "    model.train()  # 將model開啟訓練模式\n",
        "\n",
        "    for i, data in tqdm(enumerate(trainLoader, 1)):\n",
        "        inputs, labels = data\n",
        "\n",
        "        if use_gpu:\n",
        "            inputs = inputs.cuda()\n",
        "            labels = labels.cuda()\n",
        "\n",
        "        inputs = Variable(inputs)\n",
        "        labels = Variable(labels)\n",
        "\n",
        "        optimizer.zero_grad()\n",
        "\n",
        "        outputs = model(inputs)\n",
        "        loss = criterion(outputs, labels)\n",
        "        loss.backward()\n",
        "        optimizer.step()\n",
        "\n",
        "        running_loss += loss.item()\n",
        "\n",
        "        _, predicted = torch.max(outputs.data, 1)\n",
        "        acc_batch += (predicted == labels).sum().item()\n",
        "\n",
        "    running_loss /= i\n",
        "    acc_batch /= (i * batch_size)\n",
        "\n",
        "\n",
        "    print(\"[%2d, %5d] Train Loss: %.3f\" % (epoch + 1, i * batch_size, running_loss))\n",
        "    print(\"[%2d, %5d] Train Accuracy: %.3f\" % (epoch + 1, i * batch_size, acc_batch))\n",
        "\n",
        "    train_loss_epochs.append(running_loss)\n",
        "    train_acc_epochs.append(acc_batch)\n",
        "\n",
        "    model.eval()  # 將model開啟驗證模式\n",
        "    running_loss = 0.0    # 歸零給test使用\n",
        "    acc_batch = 0.0     # 歸零給test使用\n",
        "\n",
        "    with torch.no_grad():\n",
        "      for i, data in enumerate(testLoader, 1):\n",
        "          inputs, labels = data\n",
        "          if use_gpu:\n",
        "              inputs = inputs.cuda()\n",
        "              labels = labels.cuda()\n",
        "\n",
        "          inputs = Variable(inputs, volatile=True)\n",
        "          labels = Variable(labels, volatile=True)\n",
        "\n",
        "          outputs = model(inputs)\n",
        "          loss = criterion(outputs, labels)\n",
        "          _, predicted = torch.max(outputs.data, 1)\n",
        "          num_correct = (predicted == labels).sum().item()\n",
        "\n",
        "          running_loss += loss.item()\n",
        "          acc_batch += num_correct\n",
        "\n",
        "      running_loss /= i\n",
        "      acc_batch /= (i * batch_size)\n",
        "      test_loss_epochs.append(running_loss)\n",
        "      test_acc_epochs.append(acc_batch)\n",
        "\n",
        "    print(\"[%2d, %5d] Test Loss: %.3f\" % (epoch + 1, i * batch_size, running_loss))\n",
        "    print(\"[%2d, %5d] Test Accuracy: %.3f\" % (epoch + 1, i * batch_size, acc_batch))\n",
        "\n",
        "print(train_loss_epochs)\n",
        "print(train_acc_epochs)\n",
        "print(test_loss_epochs)\n",
        "print(test_acc_epochs)\n",
        "torch.save(model, './content/drive/MyDrive/NCKU_CV_DL/vgg19_20231215_v4.pth',_use_new_zipfile_serialization=False)"
      ]
    },
    {
      "cell_type": "code",
      "source": [
        "train_loss_epochs = [0.2657311481199285, 0.05641344205629247, 0.048137407138028235, 0.03736611756670879, 0.03412680764592487, 0.03225959448594918, 0.03333545279080249, 0.029644469786995104, 0.02955971545843432, 0.036072212044115634, 0.022216073923518008, 0.0323972591218342, 0.023708024304262103, 0.014894553566151436, 0.02803290037372247, 0.04897231318838229, 0.018261412398358223, 0.013516952776374469, 0.019118257554750374, 0.016887611277604648, 0.05053805700179331, 0.020506631094772593, 0.01739920226009611, 0.014179484017875551, 0.01786791895461174, 0.01388484663614541, 0.013635889718361233, 0.015731867324748024, 0.017524353739005506, 0.015178602883656288, 0.01610944605067598, 0.017953108314121054, 0.011012365947977559, 0.012980031392759587, 0.017517799452103095, 0.012826191314289394, 0.012329460329994602, 0.016497251142762345, 0.012923687704399958, 0.011477552029702414]\n",
        "train_acc_epochs = [0.919809434968017, 0.984424973347548, 0.9874733475479744, 0.9907715884861408, 0.9911047441364605, 0.9916544509594882, 0.9918376865671642, 0.9924706823027718, 0.9927038912579957, 0.9919209754797441, 0.9944696162046909, 0.9928538113006397, 0.9939365671641791, 0.9962853144989339, 0.9932369402985075, 0.9897054904051172, 0.9955023987206824, 0.9963352878464818, 0.9950526385927505, 0.9956856343283582, 0.9906716417910447, 0.9952025586353944, 0.9957689232409381, 0.9964685501066098, 0.9954857409381663, 0.996168710021322, 0.9965018656716418, 0.9962853144989339, 0.9957522654584222, 0.9962519989339019, 0.9959521588486141, 0.9956856343283582, 0.9969349680170576, 0.9967850479744137, 0.9956856343283582, 0.9969183102345416, 0.9968683368869936, 0.99605210554371, 0.9967350746268657, 0.9968683368869936]\n",
        "test_loss_epochs = [0.07550212065394543, 0.06395150303746326, 0.04517970797075312, 0.04800063735198324, 0.03806647832823705, 0.04376647795721464, 0.05133825213548173, 0.044051168486475945, 0.11142070633889753, 0.05966501585148935, 0.04834701571041789, 0.054795083091218506, 0.032870045988302884, 0.04402885954057845, 0.039680309855335695, 0.07592774544716548, 0.03141224349097752, 0.04150165109659392, 0.030817874736661723, 0.04578795021361542, 0.06194707719959861, 0.0374858303889308, 0.0325255209776791, 0.03908049642355948, 0.04062312304928657, 0.030518562345444283, 0.033001406026380235, 0.04805319102612159, 0.03834832476795897, 0.043288966924270034, 0.04857447831362819, 0.03839400752530068, 0.02888073006982302, 0.04340357859427392, 0.035175415588162624, 0.04098095314585879, 0.036861935748605947, 0.0304370523450485, 0.04149838428059446, 0.05329439768859088]\n",
        "test_acc_epochs = [0.9685522151898734, 0.9717167721518988, 0.978243670886076, 0.9766613924050633, 0.9788370253164557, 0.9784414556962026, 0.9764636075949367, 0.9797270569620253, 0.9630142405063291, 0.9745846518987342, 0.9798259493670886, 0.9771558544303798, 0.9821993670886076, 0.9802215189873418, 0.9803204113924051, 0.9761669303797469, 0.982693829113924, 0.9812104430379747, 0.982693829113924, 0.9808148734177216, 0.9776503164556962, 0.982001582278481, 0.9829905063291139, 0.9812104430379747, 0.9814082278481012, 0.9837816455696202, 0.9832871835443038, 0.9783425632911392, 0.9817049050632911, 0.9799248417721519, 0.9799248417721519, 0.9822982594936709, 0.983682753164557, 0.979628164556962, 0.9817049050632911, 0.9803204113924051, 0.9806170886075949, 0.9825949367088608, 0.9811115506329114, 0.9794303797468354]\n"
      ],
      "metadata": {
        "id": "Q-myf_rvQ1u6"
      },
      "execution_count": null,
      "outputs": []
    },
    {
      "cell_type": "markdown",
      "source": [
        "## 畫圖"
      ],
      "metadata": {
        "id": "Zwza6IqVrk82"
      }
    },
    {
      "cell_type": "code",
      "source": [
        "# 畫圖\n",
        "\n",
        "plt.subplot(2, 1, 1)\n",
        "plt.plot(train_loss_epochs, label='train_loss')\n",
        "plt.plot(test_loss_epochs, label='val_loss')\n",
        "plt.title(\"Loss\")  # 設定圖標題及其文字大小\n",
        "plt.xlabel('epoch')\n",
        "plt.ylabel('loss value')\n",
        "plt.legend()\n",
        "# plt.savefig('./content/drive/MyDrive/NCKU_CV_DL/loss.png')\n",
        "# plt.show()\n",
        "\n",
        "plt.subplot(2, 1, 2)\n",
        "plt.plot(train_acc_epochs, label='train_acc')\n",
        "plt.plot(test_acc_epochs, label='val_acc')\n",
        "plt.title(\"acc\")  # 設定圖標題及其文字大小\n",
        "plt.xlabel('epoch')\n",
        "plt.ylabel('acc value')\n",
        "plt.legend()\n",
        "# plt.savefig('./content/drive/MyDrive/NCKU_CV_DL/accuracy.png')\n",
        "\n",
        "# Adjust spacing between subplots\n",
        "plt.subplots_adjust(hspace=0.5)\n",
        "\n",
        "plt.savefig('./content/drive/MyDrive/NCKU_CV_DL/loss_accuracy_4.png')\n",
        "plt.show()\n",
        "\n",
        "\n",
        "\n"
      ],
      "metadata": {
        "id": "FqFPWcahrkm_",
        "colab": {
          "base_uri": "https://localhost:8080/"
        },
        "outputId": "c09e456d-7d77-4e8a-b110-c7243c3266f2"
      },
      "execution_count": null,
      "outputs": [
        {
          "output_type": "display_data",
          "data": {
            "text/plain": [
              "<Figure size 640x480 with 2 Axes>"
            ],
            "image/png": "[encoded data removed]"
          },
          "metadata": {}
        }
      ]
    }
  ]
}